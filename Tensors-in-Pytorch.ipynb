{
 "cells": [
  {
   "cell_type": "code",
   "execution_count": 1,
   "id": "b08f9c0d",
   "metadata": {},
   "outputs": [
    {
     "name": "stderr",
     "output_type": "stream",
     "text": [
      "C:\\Users\\Shubham\\anaconda3\\Lib\\site-packages\\torch\\utils\\_pytree.py:185: FutureWarning: optree is installed but the version is too old to support PyTorch Dynamo in C++ pytree. C++ pytree support is disabled. Please consider upgrading optree using `python3 -m pip install --upgrade 'optree>=0.13.0'`.\n",
      "  warnings.warn(\n"
     ]
    }
   ],
   "source": [
    "import torch"
   ]
  },
  {
   "cell_type": "code",
   "execution_count": 3,
   "id": "4c350123",
   "metadata": {},
   "outputs": [
    {
     "name": "stdout",
     "output_type": "stream",
     "text": [
      "GPU not Available. Using CPU\n"
     ]
    }
   ],
   "source": [
    "if torch.cuda.is_available():\n",
    "    print(\"GPU Available\")\n",
    "else:\n",
    "    print(\"GPU not Available. Using CPU\")"
   ]
  },
  {
   "cell_type": "markdown",
   "id": "d92f593c",
   "metadata": {},
   "source": [
    "## Creating a Tensor"
   ]
  },
  {
   "cell_type": "code",
   "execution_count": 27,
   "id": "3c036000",
   "metadata": {},
   "outputs": [
    {
     "data": {
      "text/plain": [
       "tensor([[ 5.0000, 18.9802],\n",
       "        [ 0.0000,  0.0000]])"
      ]
     },
     "execution_count": 27,
     "metadata": {},
     "output_type": "execute_result"
    }
   ],
   "source": [
    "# USing empty\n",
    "#Empty function allocates the space for tensor in memory, however it dosen't allocate any values to tensor at start,\n",
    "#The values we see after creating a tensor are the values which are present at that memory location\n",
    "tensor = torch.empty((2,2))\n",
    "tensor"
   ]
  },
  {
   "cell_type": "code",
   "execution_count": 28,
   "id": "ec70af83",
   "metadata": {},
   "outputs": [
    {
     "data": {
      "text/plain": [
       "torch.Tensor"
      ]
     },
     "execution_count": 28,
     "metadata": {},
     "output_type": "execute_result"
    }
   ],
   "source": [
    "#Check type\n",
    "\n",
    "type(tensor)"
   ]
  },
  {
   "cell_type": "code",
   "execution_count": 35,
   "id": "edbfe7ce",
   "metadata": {},
   "outputs": [
    {
     "data": {
      "text/plain": [
       "tensor([[0., 0., 0.],\n",
       "        [0., 0., 0.]])"
      ]
     },
     "execution_count": 35,
     "metadata": {},
     "output_type": "execute_result"
    }
   ],
   "source": [
    "#Using Zeros\n",
    "\n",
    "torch.zeros(2,3)"
   ]
  },
  {
   "cell_type": "code",
   "execution_count": 36,
   "id": "c02b749c",
   "metadata": {},
   "outputs": [
    {
     "data": {
      "text/plain": [
       "tensor([[1., 1., 1.],\n",
       "        [1., 1., 1.]])"
      ]
     },
     "execution_count": 36,
     "metadata": {},
     "output_type": "execute_result"
    }
   ],
   "source": [
    "#Using Ones\n",
    "torch.ones(2,3)"
   ]
  },
  {
   "cell_type": "code",
   "execution_count": 37,
   "id": "fa41ad2e",
   "metadata": {},
   "outputs": [
    {
     "data": {
      "text/plain": [
       "tensor([[0.9360, 0.4532, 0.8681],\n",
       "        [0.1319, 0.0509, 0.8620]])"
      ]
     },
     "execution_count": 37,
     "metadata": {},
     "output_type": "execute_result"
    }
   ],
   "source": [
    "#USing rand\n",
    "#Values are selected randomly BETWEEN 0 TO 1\n",
    "torch.rand(2,3)"
   ]
  },
  {
   "cell_type": "code",
   "execution_count": 41,
   "id": "72dc0b12",
   "metadata": {},
   "outputs": [
    {
     "data": {
      "text/plain": [
       "tensor([[0.1117, 0.8158, 0.2626],\n",
       "        [0.4839, 0.6765, 0.7539]])"
      ]
     },
     "execution_count": 41,
     "metadata": {},
     "output_type": "execute_result"
    }
   ],
   "source": [
    "#manual_seed\n",
    "torch.manual_seed(100)\n",
    "torch.rand(2,3)"
   ]
  },
  {
   "cell_type": "code",
   "execution_count": 42,
   "id": "7e43380f",
   "metadata": {},
   "outputs": [
    {
     "data": {
      "text/plain": [
       "tensor([[1, 2, 3],\n",
       "        [4, 5, 6]])"
      ]
     },
     "execution_count": 42,
     "metadata": {},
     "output_type": "execute_result"
    }
   ],
   "source": [
    "#Using tensor\n",
    "torch.tensor([[1,2,3],[4,5,6]])"
   ]
  },
  {
   "cell_type": "code",
   "execution_count": 46,
   "id": "984b0c02",
   "metadata": {},
   "outputs": [
    {
     "data": {
      "text/plain": [
       "tensor([0, 1, 2, 3, 4, 5, 6, 7, 8, 9])"
      ]
     },
     "execution_count": 46,
     "metadata": {},
     "output_type": "execute_result"
    }
   ],
   "source": [
    "#Arange\n",
    "\n",
    "torch.arange(0,10) #Tensor with all integers between 0 to 10"
   ]
  },
  {
   "cell_type": "code",
   "execution_count": 52,
   "id": "345ec868",
   "metadata": {},
   "outputs": [
    {
     "data": {
      "text/plain": [
       "tensor([ 0.0000,  1.1111,  2.2222,  3.3333,  4.4444,  5.5556,  6.6667,  7.7778,\n",
       "         8.8889, 10.0000])"
      ]
     },
     "execution_count": 52,
     "metadata": {},
     "output_type": "execute_result"
    }
   ],
   "source": [
    "#linspace\n",
    "\n",
    "torch.linspace(0,10,10)"
   ]
  },
  {
   "cell_type": "code",
   "execution_count": 55,
   "id": "858a5afd",
   "metadata": {},
   "outputs": [
    {
     "data": {
      "text/plain": [
       "tensor([[1., 0., 0.],\n",
       "        [0., 1., 0.],\n",
       "        [0., 0., 1.]])"
      ]
     },
     "execution_count": 55,
     "metadata": {},
     "output_type": "execute_result"
    }
   ],
   "source": [
    "#Eye\n",
    "\n",
    "torch.eye(3) #Itentity matrix of given shape"
   ]
  },
  {
   "cell_type": "code",
   "execution_count": 57,
   "id": "0f53b03b",
   "metadata": {},
   "outputs": [
    {
     "data": {
      "text/plain": [
       "tensor([[5, 5, 5],\n",
       "        [5, 5, 5],\n",
       "        [5, 5, 5]])"
      ]
     },
     "execution_count": 57,
     "metadata": {},
     "output_type": "execute_result"
    }
   ],
   "source": [
    "#using full\n",
    "\n",
    "torch.full((3,3),5) #3x3 tensor with 5 only"
   ]
  },
  {
   "cell_type": "markdown",
   "id": "d279c197",
   "metadata": {},
   "source": [
    "## Tensor Shapes"
   ]
  },
  {
   "cell_type": "code",
   "execution_count": 58,
   "id": "e0040b6e",
   "metadata": {},
   "outputs": [
    {
     "data": {
      "text/plain": [
       "torch.Size([2, 2])"
      ]
     },
     "execution_count": 58,
     "metadata": {},
     "output_type": "execute_result"
    }
   ],
   "source": [
    "tensor.shape"
   ]
  },
  {
   "cell_type": "code",
   "execution_count": 66,
   "id": "1ff83643",
   "metadata": {},
   "outputs": [
    {
     "data": {
      "text/plain": [
       "tensor([[1.9359e+25, 1.4335e-42],\n",
       "        [0.0000e+00, 1.0000e+00]])"
      ]
     },
     "execution_count": 66,
     "metadata": {},
     "output_type": "execute_result"
    }
   ],
   "source": [
    "torch.empty_like(tensor)"
   ]
  },
  {
   "cell_type": "code",
   "execution_count": 67,
   "id": "a7df613e",
   "metadata": {},
   "outputs": [
    {
     "data": {
      "text/plain": [
       "tensor([[0., 0.],\n",
       "        [0., 0.]])"
      ]
     },
     "execution_count": 67,
     "metadata": {},
     "output_type": "execute_result"
    }
   ],
   "source": [
    "torch.zeros_like(tensor)"
   ]
  },
  {
   "cell_type": "code",
   "execution_count": 91,
   "id": "3508ba57",
   "metadata": {},
   "outputs": [
    {
     "data": {
      "text/plain": [
       "tensor([[0.4450, 0.7278],\n",
       "        [0.4563, 0.3389]])"
      ]
     },
     "execution_count": 91,
     "metadata": {},
     "output_type": "execute_result"
    }
   ],
   "source": [
    "torch.rand_like(tensor, dtype=torch.float32)"
   ]
  },
  {
   "cell_type": "markdown",
   "id": "d40060a4",
   "metadata": {},
   "source": [
    "## Tensor Data Types"
   ]
  },
  {
   "cell_type": "code",
   "execution_count": 81,
   "id": "be4884b8",
   "metadata": {},
   "outputs": [
    {
     "data": {
      "text/plain": [
       "torch.float32"
      ]
     },
     "execution_count": 81,
     "metadata": {},
     "output_type": "execute_result"
    }
   ],
   "source": [
    "#Find datatype\n",
    "tensor.dtype"
   ]
  },
  {
   "cell_type": "code",
   "execution_count": 84,
   "id": "509cec38",
   "metadata": {},
   "outputs": [
    {
     "data": {
      "text/plain": [
       "tensor([1, 2, 3], dtype=torch.int32)"
      ]
     },
     "execution_count": 84,
     "metadata": {},
     "output_type": "execute_result"
    }
   ],
   "source": [
    "#Assign datatype\n",
    "torch.tensor([1.0,2.0,3.0], dtype=torch.int32)"
   ]
  },
  {
   "cell_type": "code",
   "execution_count": 85,
   "id": "5e74efe7",
   "metadata": {},
   "outputs": [
    {
     "data": {
      "text/plain": [
       "tensor([1., 2., 3.])"
      ]
     },
     "execution_count": 85,
     "metadata": {},
     "output_type": "execute_result"
    }
   ],
   "source": [
    "torch.tensor([1,2,3],dtype=torch.float32)"
   ]
  },
  {
   "cell_type": "code",
   "execution_count": 86,
   "id": "60a42da6",
   "metadata": {},
   "outputs": [
    {
     "data": {
      "text/plain": [
       "tensor([[ 5, 18],\n",
       "        [ 0,  0]], dtype=torch.int32)"
      ]
     },
     "execution_count": 86,
     "metadata": {},
     "output_type": "execute_result"
    }
   ],
   "source": [
    "#USing to()\n",
    "\n",
    "tensor.to(torch.int)"
   ]
  },
  {
   "cell_type": "markdown",
   "id": "ac04e1eb",
   "metadata": {},
   "source": [
    "## Mathematical Operation"
   ]
  },
  {
   "cell_type": "code",
   "execution_count": 99,
   "id": "ee1b1734",
   "metadata": {},
   "outputs": [
    {
     "data": {
      "text/plain": [
       "tensor([[0.3271, 0.0103],\n",
       "        [0.9516, 0.2855]])"
      ]
     },
     "execution_count": 99,
     "metadata": {},
     "output_type": "execute_result"
    }
   ],
   "source": [
    "x = torch.rand(2,2)\n",
    "x"
   ]
  },
  {
   "cell_type": "code",
   "execution_count": 108,
   "id": "a941e2eb",
   "metadata": {},
   "outputs": [
    {
     "data": {
      "text/plain": [
       "tensor([[1.0699e-01, 1.0516e-04],\n",
       "        [9.0555e-01, 8.1525e-02]])"
      ]
     },
     "execution_count": 108,
     "metadata": {},
     "output_type": "execute_result"
    }
   ],
   "source": [
    "#Addition \n",
    "x + 2\n",
    "\n",
    "#Subtraction\n",
    "x - 2\n",
    "\n",
    "#Multiplication\n",
    "x*3\n",
    "\n",
    "#Division\n",
    "x / 3\n",
    "\n",
    "# int division\n",
    "x//3\n",
    "\n",
    "#Mod\n",
    "x%2\n",
    "\n",
    "#power\n",
    "x**2"
   ]
  },
  {
   "cell_type": "code",
   "execution_count": 109,
   "id": "810c4e59",
   "metadata": {},
   "outputs": [
    {
     "name": "stdout",
     "output_type": "stream",
     "text": [
      "tensor([[0.2324, 0.9141, 0.7668],\n",
      "        [0.1659, 0.4393, 0.2243]])\n",
      "tensor([[0.8935, 0.0497, 0.1780],\n",
      "        [0.3011, 0.1893, 0.9186]])\n"
     ]
    }
   ],
   "source": [
    "a = torch.rand(2,3)\n",
    "b = torch.rand(2,3)\n",
    "\n",
    "print(a)\n",
    "print(b)"
   ]
  },
  {
   "cell_type": "code",
   "execution_count": 112,
   "id": "f814faec",
   "metadata": {},
   "outputs": [
    {
     "data": {
      "text/plain": [
       "tensor([[0.2324, 0.0187, 0.0549],\n",
       "        [0.1659, 0.0607, 0.2243]])"
      ]
     },
     "execution_count": 112,
     "metadata": {},
     "output_type": "execute_result"
    }
   ],
   "source": [
    "# Add\n",
    "a+b\n",
    "\n",
    "# sub\n",
    "a-b\n",
    "\n",
    "# multiply\n",
    "a*b\n",
    "\n",
    "# division\n",
    "a/b\n",
    "\n",
    "# power\n",
    "a**b\n",
    "\n",
    "# mod\n",
    "a%b"
   ]
  },
  {
   "cell_type": "code",
   "execution_count": 113,
   "id": "6298d54c",
   "metadata": {},
   "outputs": [],
   "source": [
    "c = torch.tensor([-1,2,-3,4])"
   ]
  },
  {
   "cell_type": "code",
   "execution_count": 114,
   "id": "d0408230",
   "metadata": {},
   "outputs": [
    {
     "data": {
      "text/plain": [
       "tensor([1, 2, 3, 4])"
      ]
     },
     "execution_count": 114,
     "metadata": {},
     "output_type": "execute_result"
    }
   ],
   "source": [
    "torch.abs(c)"
   ]
  },
  {
   "cell_type": "code",
   "execution_count": 116,
   "id": "9a05173d",
   "metadata": {},
   "outputs": [
    {
     "data": {
      "text/plain": [
       "tensor([ 1, -2,  3, -4])"
      ]
     },
     "execution_count": 116,
     "metadata": {},
     "output_type": "execute_result"
    }
   ],
   "source": [
    "#negative\n",
    "torch.neg(c)"
   ]
  },
  {
   "cell_type": "code",
   "execution_count": 117,
   "id": "d131caab",
   "metadata": {},
   "outputs": [
    {
     "data": {
      "text/plain": [
       "tensor([[0., 0.],\n",
       "        [1., 0.]])"
      ]
     },
     "execution_count": 117,
     "metadata": {},
     "output_type": "execute_result"
    }
   ],
   "source": [
    "#round\n",
    "torch.round(x)"
   ]
  },
  {
   "cell_type": "code",
   "execution_count": 119,
   "id": "499fd7c1",
   "metadata": {},
   "outputs": [
    {
     "data": {
      "text/plain": [
       "tensor([[ 5., 19.],\n",
       "        [ 0.,  0.]])"
      ]
     },
     "execution_count": 119,
     "metadata": {},
     "output_type": "execute_result"
    }
   ],
   "source": [
    "#ceil\n",
    "torch.ceil(tensor)"
   ]
  },
  {
   "cell_type": "code",
   "execution_count": 120,
   "id": "32217b61",
   "metadata": {},
   "outputs": [
    {
     "data": {
      "text/plain": [
       "tensor([[ 5., 18.],\n",
       "        [ 0.,  0.]])"
      ]
     },
     "execution_count": 120,
     "metadata": {},
     "output_type": "execute_result"
    }
   ],
   "source": [
    "#floor\n",
    "torch.floor(tensor)"
   ]
  },
  {
   "cell_type": "code",
   "execution_count": 129,
   "id": "8339e3d0",
   "metadata": {},
   "outputs": [
    {
     "data": {
      "text/plain": [
       "tensor([2.0000, 2.3000, 3.0000, 3.0000])"
      ]
     },
     "execution_count": 129,
     "metadata": {},
     "output_type": "execute_result"
    }
   ],
   "source": [
    "#clamp\n",
    "d = torch.tensor([1.9,2.3,3.7,4.4])\n",
    "torch.clamp(d,2,3)"
   ]
  },
  {
   "cell_type": "markdown",
   "id": "cc52ab7e",
   "metadata": {},
   "source": [
    "## Reduction Operation"
   ]
  },
  {
   "cell_type": "code",
   "execution_count": 131,
   "id": "9541660c",
   "metadata": {},
   "outputs": [
    {
     "data": {
      "text/plain": [
       "tensor([[7, 2, 5],\n",
       "        [6, 1, 4]])"
      ]
     },
     "execution_count": 131,
     "metadata": {},
     "output_type": "execute_result"
    }
   ],
   "source": [
    "e = torch.randint(size=(2,3),low=0,high=10)\n",
    "e"
   ]
  },
  {
   "cell_type": "code",
   "execution_count": 139,
   "id": "ae1461e9",
   "metadata": {},
   "outputs": [
    {
     "data": {
      "text/plain": [
       "tensor([14, 11])"
      ]
     },
     "execution_count": 139,
     "metadata": {},
     "output_type": "execute_result"
    }
   ],
   "source": [
    "#Sum\n",
    "e.sum()\n",
    "\n",
    "#Sum along columns\n",
    "e.sum(dim=0)\n",
    "\n",
    "#SUm along rows\n",
    "e.sum(dim=1)"
   ]
  },
  {
   "cell_type": "code",
   "execution_count": 147,
   "id": "73ef9eeb",
   "metadata": {},
   "outputs": [
    {
     "data": {
      "text/plain": [
       "tensor(4.1667)"
      ]
     },
     "execution_count": 147,
     "metadata": {},
     "output_type": "execute_result"
    }
   ],
   "source": [
    "#mean\n",
    "e.mean(dtype=torch.float32)"
   ]
  },
  {
   "cell_type": "code",
   "execution_count": 148,
   "id": "6d3ae68b",
   "metadata": {},
   "outputs": [
    {
     "data": {
      "text/plain": [
       "tensor(4)"
      ]
     },
     "execution_count": 148,
     "metadata": {},
     "output_type": "execute_result"
    }
   ],
   "source": [
    "#Median\n",
    "e.median()"
   ]
  },
  {
   "cell_type": "code",
   "execution_count": 149,
   "id": "184fcef8",
   "metadata": {},
   "outputs": [
    {
     "data": {
      "text/plain": [
       "(tensor(7), tensor(1))"
      ]
     },
     "execution_count": 149,
     "metadata": {},
     "output_type": "execute_result"
    }
   ],
   "source": [
    "#Max and min\n",
    "e.max(),e.min()"
   ]
  },
  {
   "cell_type": "code",
   "execution_count": 150,
   "id": "25369f8f",
   "metadata": {},
   "outputs": [
    {
     "data": {
      "text/plain": [
       "tensor(1680)"
      ]
     },
     "execution_count": 150,
     "metadata": {},
     "output_type": "execute_result"
    }
   ],
   "source": [
    "#product\n",
    "e.prod()"
   ]
  },
  {
   "cell_type": "code",
   "execution_count": 161,
   "id": "9880d38e",
   "metadata": {},
   "outputs": [
    {
     "data": {
      "text/plain": [
       "tensor(8.9719)"
      ]
     },
     "execution_count": 161,
     "metadata": {},
     "output_type": "execute_result"
    }
   ],
   "source": [
    "#Standard Deviation\n",
    "torch.std(tensor)"
   ]
  },
  {
   "cell_type": "code",
   "execution_count": 163,
   "id": "ee080eb5",
   "metadata": {},
   "outputs": [
    {
     "data": {
      "text/plain": [
       "tensor(80.4954)"
      ]
     },
     "execution_count": 163,
     "metadata": {},
     "output_type": "execute_result"
    }
   ],
   "source": [
    "#variance\n",
    "torch.var(tensor)"
   ]
  },
  {
   "cell_type": "code",
   "execution_count": 167,
   "id": "0347f4f5",
   "metadata": {},
   "outputs": [
    {
     "data": {
      "text/plain": [
       "tensor(0)"
      ]
     },
     "execution_count": 167,
     "metadata": {},
     "output_type": "execute_result"
    }
   ],
   "source": [
    "#Argmax\n",
    "\n",
    "torch.argmax(e)"
   ]
  },
  {
   "cell_type": "code",
   "execution_count": 171,
   "id": "cf29b8df",
   "metadata": {},
   "outputs": [
    {
     "data": {
      "text/plain": [
       "tensor(4)"
      ]
     },
     "execution_count": 171,
     "metadata": {},
     "output_type": "execute_result"
    }
   ],
   "source": [
    "#Argmin\n",
    "\n",
    "torch.argmin(e)"
   ]
  },
  {
   "cell_type": "markdown",
   "id": "f8b84bc9",
   "metadata": {},
   "source": [
    "## Matrix Operations"
   ]
  },
  {
   "cell_type": "code",
   "execution_count": 181,
   "id": "19599569",
   "metadata": {},
   "outputs": [
    {
     "data": {
      "text/plain": [
       "tensor([[10,  2],\n",
       "        [34,  6]])"
      ]
     },
     "execution_count": 181,
     "metadata": {},
     "output_type": "execute_result"
    }
   ],
   "source": [
    "f = torch.randint(size=(2,3),low=0,high=10)\n",
    "g = torch.randint(size=(3,2),low=0,high=10)\n",
    "\n",
    "f,g\n",
    "\n",
    "torch.matmul(f,g)"
   ]
  },
  {
   "cell_type": "code",
   "execution_count": 180,
   "id": "fa468db5",
   "metadata": {},
   "outputs": [
    {
     "data": {
      "text/plain": [
       "tensor(11)"
      ]
     },
     "execution_count": 180,
     "metadata": {},
     "output_type": "execute_result"
    }
   ],
   "source": [
    "#Matrix multiplication\n",
    "vector1 = torch.tensor([1,2])\n",
    "vector2 = torch.tensor([3,4])\n",
    "\n",
    "\n",
    "torch.matmul(vector1, vector2)"
   ]
  },
  {
   "cell_type": "code",
   "execution_count": 183,
   "id": "c5271326",
   "metadata": {},
   "outputs": [
    {
     "data": {
      "text/plain": [
       "tensor([[0, 4],\n",
       "        [2, 6],\n",
       "        [4, 2]])"
      ]
     },
     "execution_count": 183,
     "metadata": {},
     "output_type": "execute_result"
    }
   ],
   "source": [
    "#Transpose\n",
    "torch.transpose(f,0,1)"
   ]
  },
  {
   "cell_type": "code",
   "execution_count": 186,
   "id": "61ba91af",
   "metadata": {},
   "outputs": [
    {
     "data": {
      "text/plain": [
       "tensor([[[3, 6, 7],\n",
       "         [8, 1, 2],\n",
       "         [3, 2, 7]],\n",
       "\n",
       "        [[9, 3, 9],\n",
       "         [7, 7, 5],\n",
       "         [9, 2, 2]]])"
      ]
     },
     "execution_count": 186,
     "metadata": {},
     "output_type": "execute_result"
    }
   ],
   "source": [
    "f = torch.randint(size=(2,3,3),low=0,high=10)\n",
    "f"
   ]
  },
  {
   "cell_type": "code",
   "execution_count": 188,
   "id": "d097e105",
   "metadata": {},
   "outputs": [
    {
     "data": {
      "text/plain": [
       "tensor([[[3, 6, 7],\n",
       "         [9, 3, 9]],\n",
       "\n",
       "        [[8, 1, 2],\n",
       "         [7, 7, 5]],\n",
       "\n",
       "        [[3, 2, 7],\n",
       "         [9, 2, 2]]])"
      ]
     },
     "execution_count": 188,
     "metadata": {},
     "output_type": "execute_result"
    }
   ],
   "source": [
    "torch.transpose(f,1,0)"
   ]
  },
  {
   "cell_type": "code",
   "execution_count": 189,
   "id": "7036f91b",
   "metadata": {},
   "outputs": [
    {
     "data": {
      "text/plain": [
       "tensor([[[3, 6, 7],\n",
       "         [8, 1, 2],\n",
       "         [3, 2, 7]],\n",
       "\n",
       "        [[9, 3, 9],\n",
       "         [7, 7, 5],\n",
       "         [9, 2, 2]]])"
      ]
     },
     "execution_count": 189,
     "metadata": {},
     "output_type": "execute_result"
    }
   ],
   "source": [
    "f"
   ]
  },
  {
   "cell_type": "code",
   "execution_count": 192,
   "id": "9701de7e",
   "metadata": {},
   "outputs": [
    {
     "data": {
      "text/plain": [
       "tensor(-0.)"
      ]
     },
     "execution_count": 192,
     "metadata": {},
     "output_type": "execute_result"
    }
   ],
   "source": [
    "#Determinant\n",
    "torch.det(tensor)"
   ]
  },
  {
   "cell_type": "code",
   "execution_count": 193,
   "id": "cabd5459",
   "metadata": {},
   "outputs": [
    {
     "ename": "_LinAlgError",
     "evalue": "linalg.inv: The diagonal element 2 is zero, the inversion could not be completed because the input matrix is singular.",
     "output_type": "error",
     "traceback": [
      "\u001b[1;31m---------------------------------------------------------------------------\u001b[0m",
      "\u001b[1;31m_LinAlgError\u001b[0m                              Traceback (most recent call last)",
      "Cell \u001b[1;32mIn[193], line 2\u001b[0m\n\u001b[0;32m      1\u001b[0m \u001b[38;5;66;03m#inverse\u001b[39;00m\n\u001b[1;32m----> 2\u001b[0m torch\u001b[38;5;241m.\u001b[39minverse(tensor)\n",
      "\u001b[1;31m_LinAlgError\u001b[0m: linalg.inv: The diagonal element 2 is zero, the inversion could not be completed because the input matrix is singular."
     ]
    }
   ],
   "source": [
    "#inverse\n",
    "torch.inverse(tensor)"
   ]
  },
  {
   "cell_type": "code",
   "execution_count": 194,
   "id": "518456b5",
   "metadata": {},
   "outputs": [
    {
     "data": {
      "text/plain": [
       "tensor([[ 5.0000, 18.9802],\n",
       "        [ 0.0000,  0.0000]])"
      ]
     },
     "execution_count": 194,
     "metadata": {},
     "output_type": "execute_result"
    }
   ],
   "source": [
    "tensor"
   ]
  },
  {
   "cell_type": "code",
   "execution_count": 195,
   "id": "42b276ba",
   "metadata": {},
   "outputs": [
    {
     "data": {
      "text/plain": [
       "tensor([[1.6094, 2.9434],\n",
       "        [  -inf,   -inf]])"
      ]
     },
     "execution_count": 195,
     "metadata": {},
     "output_type": "execute_result"
    }
   ],
   "source": [
    "#log \n",
    "torch.log(tensor)"
   ]
  },
  {
   "cell_type": "code",
   "execution_count": 196,
   "id": "d5aa3899",
   "metadata": {},
   "outputs": [
    {
     "data": {
      "text/plain": [
       "tensor([[1.4841e+02, 1.7499e+08],\n",
       "        [1.0000e+00, 1.0000e+00]])"
      ]
     },
     "execution_count": 196,
     "metadata": {},
     "output_type": "execute_result"
    }
   ],
   "source": [
    "#exp\n",
    "tensor.exp()"
   ]
  },
  {
   "cell_type": "code",
   "execution_count": 197,
   "id": "565d42a6",
   "metadata": {},
   "outputs": [
    {
     "data": {
      "text/plain": [
       "tensor([[2.2361, 4.3566],\n",
       "        [0.0000, 0.0000]])"
      ]
     },
     "execution_count": 197,
     "metadata": {},
     "output_type": "execute_result"
    }
   ],
   "source": [
    "# sqrt\n",
    "tensor.sqrt()"
   ]
  },
  {
   "cell_type": "code",
   "execution_count": 198,
   "id": "dedf4bf9",
   "metadata": {},
   "outputs": [
    {
     "data": {
      "text/plain": [
       "tensor([[0.9933, 1.0000],\n",
       "        [0.5000, 0.5000]])"
      ]
     },
     "execution_count": 198,
     "metadata": {},
     "output_type": "execute_result"
    }
   ],
   "source": [
    "# sigmoid\n",
    "tensor.sigmoid()"
   ]
  },
  {
   "cell_type": "code",
   "execution_count": 201,
   "id": "9396f5a4",
   "metadata": {},
   "outputs": [
    {
     "data": {
      "text/plain": [
       "tensor([[8.4813e-07, 1.0000e+00],\n",
       "        [5.0000e-01, 5.0000e-01]])"
      ]
     },
     "execution_count": 201,
     "metadata": {},
     "output_type": "execute_result"
    }
   ],
   "source": [
    "# Softmax\n",
    "tensor.softmax(dim=1)"
   ]
  },
  {
   "cell_type": "code",
   "execution_count": 203,
   "id": "f34db612",
   "metadata": {},
   "outputs": [
    {
     "data": {
      "text/plain": [
       "tensor([[ 5.0000, 18.9802],\n",
       "        [ 0.0000,  0.0000]])"
      ]
     },
     "execution_count": 203,
     "metadata": {},
     "output_type": "execute_result"
    }
   ],
   "source": [
    "# relu\n",
    "tensor.relu()"
   ]
  },
  {
   "cell_type": "code",
   "execution_count": 246,
   "id": "c7fcb30b",
   "metadata": {},
   "outputs": [
    {
     "data": {
      "text/plain": [
       "tensor([[  14.0873, 7831.2026,  170.0726],\n",
       "        [  21.3239,   95.3242,   14.3348]])"
      ]
     },
     "execution_count": 246,
     "metadata": {},
     "output_type": "execute_result"
    }
   ],
   "source": [
    "a.add_(b)"
   ]
  },
  {
   "cell_type": "code",
   "execution_count": 247,
   "id": "2300214a",
   "metadata": {},
   "outputs": [
    {
     "data": {
      "text/plain": [
       "tensor([[  14.0873, 7831.2026,  170.0726],\n",
       "        [  21.3239,   95.3242,   14.3348]])"
      ]
     },
     "execution_count": 247,
     "metadata": {},
     "output_type": "execute_result"
    }
   ],
   "source": [
    "a"
   ]
  },
  {
   "cell_type": "code",
   "execution_count": 248,
   "id": "70f66fd9",
   "metadata": {},
   "outputs": [
    {
     "data": {
      "text/plain": [
       "tensor([[1.0000, 1.0000, 1.0000],\n",
       "        [1.0000, 1.0000, 1.0000]])"
      ]
     },
     "execution_count": 248,
     "metadata": {},
     "output_type": "execute_result"
    }
   ],
   "source": [
    "a.sigmoid_()\n",
    "a"
   ]
  },
  {
   "cell_type": "code",
   "execution_count": 250,
   "id": "c0e3b976",
   "metadata": {},
   "outputs": [],
   "source": [
    "#COpying a Tensor\n",
    "\n",
    "b = a.clone()"
   ]
  },
  {
   "cell_type": "code",
   "execution_count": 252,
   "id": "1abd40d6",
   "metadata": {},
   "outputs": [
    {
     "data": {
      "text/plain": [
       "tensor([[6.0000, 6.0000, 6.0000],\n",
       "        [6.0000, 6.0000, 6.0000]])"
      ]
     },
     "execution_count": 252,
     "metadata": {},
     "output_type": "execute_result"
    }
   ],
   "source": [
    "a.add_(5)"
   ]
  },
  {
   "cell_type": "code",
   "execution_count": 254,
   "id": "dfe350b1",
   "metadata": {},
   "outputs": [
    {
     "data": {
      "text/plain": [
       "tensor([[1.0000, 1.0000, 1.0000],\n",
       "        [1.0000, 1.0000, 1.0000]])"
      ]
     },
     "execution_count": 254,
     "metadata": {},
     "output_type": "execute_result"
    }
   ],
   "source": [
    "b"
   ]
  },
  {
   "cell_type": "code",
   "execution_count": 255,
   "id": "27b33751",
   "metadata": {},
   "outputs": [
    {
     "data": {
      "text/plain": [
       "3077386286192"
      ]
     },
     "execution_count": 255,
     "metadata": {},
     "output_type": "execute_result"
    }
   ],
   "source": [
    "id(a)"
   ]
  },
  {
   "cell_type": "code",
   "execution_count": 256,
   "id": "d98697bd",
   "metadata": {},
   "outputs": [
    {
     "data": {
      "text/plain": [
       "3077392273712"
      ]
     },
     "execution_count": 256,
     "metadata": {},
     "output_type": "execute_result"
    }
   ],
   "source": [
    "id(b)"
   ]
  },
  {
   "cell_type": "code",
   "execution_count": 262,
   "id": "bbf56362",
   "metadata": {},
   "outputs": [],
   "source": [
    "device=torch.device(\"cuda\") if torch.cuda.is_available() else \"cpu\""
   ]
  },
  {
   "cell_type": "code",
   "execution_count": 263,
   "id": "53d3b62b",
   "metadata": {},
   "outputs": [
    {
     "data": {
      "text/plain": [
       "tensor([[0.9792, 0.4947, 0.3617],\n",
       "        [0.9687, 0.0359, 0.3041]])"
      ]
     },
     "execution_count": 263,
     "metadata": {},
     "output_type": "execute_result"
    }
   ],
   "source": [
    "#Creating a new tensor on GPU\n",
    "\n",
    "torch.rand((2,3),device=device)"
   ]
  },
  {
   "cell_type": "code",
   "execution_count": 265,
   "id": "d06d77cc",
   "metadata": {},
   "outputs": [
    {
     "data": {
      "text/plain": [
       "tensor([[6.0000, 6.0000, 6.0000],\n",
       "        [6.0000, 6.0000, 6.0000]])"
      ]
     },
     "execution_count": 265,
     "metadata": {},
     "output_type": "execute_result"
    }
   ],
   "source": [
    "#Moving existing tensor to a GPU\n",
    "a.to(device)"
   ]
  },
  {
   "cell_type": "markdown",
   "id": "96346ecf",
   "metadata": {},
   "source": [
    "## Reshaping Tensors"
   ]
  },
  {
   "cell_type": "code",
   "execution_count": 274,
   "id": "da6dfad9",
   "metadata": {},
   "outputs": [
    {
     "data": {
      "text/plain": [
       "tensor([[6.0000, 6.0000],\n",
       "        [6.0000, 6.0000],\n",
       "        [6.0000, 6.0000]])"
      ]
     },
     "execution_count": 274,
     "metadata": {},
     "output_type": "execute_result"
    }
   ],
   "source": [
    "#reshape\n",
    "a.reshape((3,2))"
   ]
  },
  {
   "cell_type": "code",
   "execution_count": 275,
   "id": "e3f6c608",
   "metadata": {},
   "outputs": [
    {
     "data": {
      "text/plain": [
       "tensor([6.0000, 6.0000, 6.0000, 6.0000, 6.0000, 6.0000])"
      ]
     },
     "execution_count": 275,
     "metadata": {},
     "output_type": "execute_result"
    }
   ],
   "source": [
    "#Flatten\n",
    "a.flatten()"
   ]
  },
  {
   "cell_type": "code",
   "execution_count": 277,
   "id": "9b6cdce7",
   "metadata": {},
   "outputs": [],
   "source": [
    "b = torch.rand(2,3,4)"
   ]
  },
  {
   "cell_type": "code",
   "execution_count": 283,
   "id": "7e0ae3aa",
   "metadata": {},
   "outputs": [
    {
     "data": {
      "text/plain": [
       "tensor([[[0.9867, 0.2420],\n",
       "         [0.0899, 0.2440],\n",
       "         [0.2316, 0.6201]],\n",
       "\n",
       "        [[0.1290, 0.4928],\n",
       "         [0.3139, 0.8994],\n",
       "         [0.2847, 0.3658]],\n",
       "\n",
       "        [[0.6887, 0.5772],\n",
       "         [0.1219, 0.1041],\n",
       "         [0.3520, 0.0623]],\n",
       "\n",
       "        [[0.1637, 0.3771],\n",
       "         [0.3516, 0.9193],\n",
       "         [0.2828, 0.5967]]])"
      ]
     },
     "execution_count": 283,
     "metadata": {},
     "output_type": "execute_result"
    }
   ],
   "source": [
    "#permute\n",
    "b.permute(2,1,0)"
   ]
  },
  {
   "cell_type": "code",
   "execution_count": 293,
   "id": "5f354f21",
   "metadata": {},
   "outputs": [
    {
     "name": "stdout",
     "output_type": "stream",
     "text": [
      "torch.Size([226, 226, 3])\n",
      "torch.Size([1, 226, 226, 3])\n"
     ]
    }
   ],
   "source": [
    "# unsqueeze\n",
    "c = torch.rand(226,226,3)\n",
    "print(c.shape)\n",
    "c = c.unsqueeze(dim=0)\n",
    "print(c.shape)"
   ]
  },
  {
   "cell_type": "code",
   "execution_count": 301,
   "id": "c75da107",
   "metadata": {},
   "outputs": [
    {
     "data": {
      "text/plain": [
       "torch.Size([226, 226, 3])"
      ]
     },
     "execution_count": 301,
     "metadata": {},
     "output_type": "execute_result"
    }
   ],
   "source": [
    "# squeeze\n",
    "\n",
    "c.squeeze().shape"
   ]
  },
  {
   "cell_type": "markdown",
   "id": "a5dce34b",
   "metadata": {},
   "source": [
    "## Numpy and PyTorch"
   ]
  },
  {
   "cell_type": "code",
   "execution_count": 302,
   "id": "0b1dd782",
   "metadata": {},
   "outputs": [],
   "source": [
    "import numpy as np"
   ]
  },
  {
   "cell_type": "code",
   "execution_count": 320,
   "id": "97035b81",
   "metadata": {},
   "outputs": [
    {
     "data": {
      "text/plain": [
       "tensor([1, 2, 3])"
      ]
     },
     "execution_count": 320,
     "metadata": {},
     "output_type": "execute_result"
    }
   ],
   "source": [
    "a = torch.tensor([1,2,3])\n",
    "a"
   ]
  },
  {
   "cell_type": "code",
   "execution_count": 312,
   "id": "8471adc1",
   "metadata": {},
   "outputs": [],
   "source": [
    "b = a.numpy()"
   ]
  },
  {
   "cell_type": "code",
   "execution_count": 313,
   "id": "c36d484d",
   "metadata": {},
   "outputs": [
    {
     "data": {
      "text/plain": [
       "numpy.ndarray"
      ]
     },
     "execution_count": 313,
     "metadata": {},
     "output_type": "execute_result"
    }
   ],
   "source": [
    "type(b)"
   ]
  },
  {
   "cell_type": "code",
   "execution_count": 314,
   "id": "45606349",
   "metadata": {},
   "outputs": [
    {
     "data": {
      "text/plain": [
       "array([1, 2, 3])"
      ]
     },
     "execution_count": 314,
     "metadata": {},
     "output_type": "execute_result"
    }
   ],
   "source": [
    "c = np.array([1,2,3])\n",
    "c"
   ]
  },
  {
   "cell_type": "code",
   "execution_count": 318,
   "id": "21c9be1d",
   "metadata": {},
   "outputs": [
    {
     "data": {
      "text/plain": [
       "tensor([1, 2, 3])"
      ]
     },
     "execution_count": 318,
     "metadata": {},
     "output_type": "execute_result"
    }
   ],
   "source": [
    "torch.from_numpy(c)"
   ]
  },
  {
   "cell_type": "code",
   "execution_count": null,
   "id": "6296f65e",
   "metadata": {},
   "outputs": [],
   "source": []
  }
 ],
 "metadata": {
  "kernelspec": {
   "display_name": "Python 3 (ipykernel)",
   "language": "python",
   "name": "python3"
  },
  "language_info": {
   "codemirror_mode": {
    "name": "ipython",
    "version": 3
   },
   "file_extension": ".py",
   "mimetype": "text/x-python",
   "name": "python",
   "nbconvert_exporter": "python",
   "pygments_lexer": "ipython3",
   "version": "3.11.4"
  }
 },
 "nbformat": 4,
 "nbformat_minor": 5
}
